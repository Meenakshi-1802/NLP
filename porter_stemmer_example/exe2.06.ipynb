{
 "cells": [
  {
   "cell_type": "code",
   "execution_count": 1,
   "id": "79682539-0309-4f29-9f81-e01fe1a16640",
   "metadata": {},
   "outputs": [],
   "source": [
    "from nltk.stem.porter import *\n",
    "\n",
    "sentence = \"Before eating it would be nice to sanitize your hands with a sanitizer\""
   ]
  },
  {
   "cell_type": "code",
   "execution_count": 3,
   "id": "d640ec5d-f9c2-4876-88a1-6d8df4646ace",
   "metadata": {},
   "outputs": [
    {
     "data": {
      "text/plain": [
       "'befor eat it would be nice to sanit your hand with a sanit'"
      ]
     },
     "execution_count": 3,
     "metadata": {},
     "output_type": "execute_result"
    }
   ],
   "source": [
    "def get_stems(text):\n",
    "    ps_stemmer = PorterStemmer()\n",
    "    return ' '.join([ps_stemmer.stem(wd) for wd in text.split()])\n",
    " \n",
    "get_stems(sentence)"
   ]
  },
  {
   "cell_type": "code",
   "execution_count": null,
   "id": "6b330f36-04c3-4773-bc2d-bb05c81b2e1d",
   "metadata": {},
   "outputs": [],
   "source": []
  }
 ],
 "metadata": {
  "kernelspec": {
   "display_name": "Python 3 (ipykernel)",
   "language": "python",
   "name": "python3"
  },
  "language_info": {
   "codemirror_mode": {
    "name": "ipython",
    "version": 3
   },
   "file_extension": ".py",
   "mimetype": "text/x-python",
   "name": "python",
   "nbconvert_exporter": "python",
   "pygments_lexer": "ipython3",
   "version": "3.12.7"
  }
 },
 "nbformat": 4,
 "nbformat_minor": 5
}
