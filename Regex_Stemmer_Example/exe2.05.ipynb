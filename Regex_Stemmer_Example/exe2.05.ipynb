{
 "cells": [
  {
   "cell_type": "code",
   "execution_count": 1,
   "id": "2d862e42-7791-40d6-ae8f-ba6aae8a51d7",
   "metadata": {},
   "outputs": [],
   "source": [
    "from nltk.stem import RegexpStemmer"
   ]
  },
  {
   "cell_type": "code",
   "execution_count": 3,
   "id": "89c48d2e-2d47-4e78-9ecf-ab592c9545b0",
   "metadata": {},
   "outputs": [
    {
     "data": {
      "text/plain": [
       "'I love play football'"
      ]
     },
     "execution_count": 3,
     "metadata": {},
     "output_type": "execute_result"
    }
   ],
   "source": [
    "def get_stems(text):\n",
    "    regex_stemmer = RegexpStemmer('ing$', min=4) # creating an object of RegexpStemmer, \n",
    "                                             # any string ending with the given\n",
    "                                             # regex ‘ing$’ will be removed.\n",
    "    # The below code line will convert every word into its stem using regex stemmer \n",
    "    # and then join them with space.\n",
    "    return ' '.join([regex_stemmer.stem(wd) for wd in text.split()])\n",
    "\n",
    " \n",
    "sentence = \"I love playing football\"\n",
    "get_stems(sentence)"
   ]
  },
  {
   "cell_type": "code",
   "execution_count": null,
   "id": "1cf1a218-438b-4448-a9cf-0fd9c8263a7e",
   "metadata": {},
   "outputs": [],
   "source": []
  }
 ],
 "metadata": {
  "kernelspec": {
   "display_name": "Python 3 (ipykernel)",
   "language": "python",
   "name": "python3"
  },
  "language_info": {
   "codemirror_mode": {
    "name": "ipython",
    "version": 3
   },
   "file_extension": ".py",
   "mimetype": "text/x-python",
   "name": "python",
   "nbconvert_exporter": "python",
   "pygments_lexer": "ipython3",
   "version": "3.12.7"
  }
 },
 "nbformat": 4,
 "nbformat_minor": 5
}
