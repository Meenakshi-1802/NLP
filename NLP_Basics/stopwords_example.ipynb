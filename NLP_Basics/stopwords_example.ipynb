{
 "cells": [
  {
   "cell_type": "code",
   "execution_count": 23,
   "id": "06faa8e9-611e-4d26-8f91-b69658f7e775",
   "metadata": {},
   "outputs": [
    {
     "name": "stdout",
     "output_type": "stream",
     "text": [
      "{\"aren't\", 'haven', 'nor', 'of', \"doesn't\", 'having', 'mightn', 'myself', 'am', 'my', 'all', 'don', \"they'd\", 'me', 'she', \"he'll\", 'weren', 'down', \"he'd\", 'after', 'about', 'below', \"she's\", 'o', 'here', 'some', \"you're\", 've', 'do', 'can', 're', 'over', 'isn', \"i've\", 'but', 'so', 'most', 'in', 'wouldn', \"it's\", 'more', 'have', \"shouldn't\", 'this', 'which', 'who', 'yours', 'hers', 'to', \"he's\", 'while', \"she'll\", 'that', \"wasn't\", 'further', 'for', 'a', 'he', \"we're\", 'each', 'during', 'no', 'couldn', \"you'll\", 'other', 'herself', 'own', 'too', 'are', 'again', 'being', \"it'd\", 'its', \"i'm\", \"weren't\", \"mustn't\", 'our', 'his', 'their', \"you've\", \"we'd\", 'at', 'had', 'ain', \"it'll\", 'not', \"they've\", 'will', \"she'd\", \"they'll\", 'doing', 'between', 'be', 'hasn', 'themselves', \"shan't\", 'both', 'such', \"couldn't\", 'them', 'same', \"you'd\", 'on', 'than', \"hadn't\", \"needn't\", 'these', 'very', 'as', 'from', 'hadn', 'or', 'did', 'itself', 'should', 'ourselves', 'ours', 'shan', 'y', 'd', \"i'd\", 'where', 'wasn', 'has', 'through', 'just', \"hasn't\", \"that'll\", 'you', 'does', 'yourself', 'few', \"they're\", 'those', 'needn', 'any', \"didn't\", 'shouldn', 'above', 'and', 'is', 'him', \"isn't\", \"won't\", 'now', 'been', 'theirs', 'how', 'then', 'won', 'under', 'we', 'an', 'against', 'himself', \"wouldn't\", \"i'll\", 'was', 't', 'll', 'didn', 'before', 'ma', 'whom', 'if', 'into', \"haven't\", \"mightn't\", 'once', 'what', 'aren', \"we've\", 'her', 'up', \"should've\", 'your', 'by', 'doesn', 'why', \"we'll\", 'yourselves', 'it', 'the', 'they', 'were', 'm', 'until', 'when', 's', \"don't\", 'only', 'with', 'i', 'mustn', 'out', 'there', 'because', 'off'}\n"
     ]
    }
   ],
   "source": [
    "from nltk import word_tokenize\n",
    "from nltk.corpus import stopwords\n",
    "stop_words = set(stopwords.words('english'))\n",
    "print(stop_words)\n",
    "    "
   ]
  },
  {
   "cell_type": "code",
   "execution_count": null,
   "id": "82c87bcd-9a98-4771-b388-4d956344c661",
   "metadata": {},
   "outputs": [],
   "source": []
  }
 ],
 "metadata": {
  "kernelspec": {
   "display_name": "Python 3 (ipykernel)",
   "language": "python",
   "name": "python3"
  },
  "language_info": {
   "codemirror_mode": {
    "name": "ipython",
    "version": 3
   },
   "file_extension": ".py",
   "mimetype": "text/x-python",
   "name": "python",
   "nbconvert_exporter": "python",
   "pygments_lexer": "ipython3",
   "version": "3.12.7"
  }
 },
 "nbformat": 4,
 "nbformat_minor": 5
}
