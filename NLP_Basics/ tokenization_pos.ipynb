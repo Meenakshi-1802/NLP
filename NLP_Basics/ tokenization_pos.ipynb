{
 "cells": [
  {
   "cell_type": "code",
   "execution_count": 1,
   "id": "a37bd014-2a10-4bf5-add5-bf01e4a317b9",
   "metadata": {},
   "outputs": [
    {
     "name": "stdout",
     "output_type": "stream",
     "text": [
      "['I', 'am', 'learning', 'NLP', 'fundamentals']\n"
     ]
    }
   ],
   "source": [
    "from nltk import word_tokenize\n",
    "def get_tokens(sentence):\n",
    "    words = word_tokenize(sentence)\n",
    "    return words\n",
    "print(get_tokens(\"I am learning NLP fundamentals\"))\n",
    "def get_pos(words):\n",
    "    return pos_tag(words)\n",
    "    get_pos(words)"
   ]
  },
  {
   "cell_type": "code",
   "execution_count": null,
   "id": "1604c4db-97e5-41c0-9e52-53d56690c419",
   "metadata": {},
   "outputs": [],
   "source": []
  }
 ],
 "metadata": {
  "kernelspec": {
   "display_name": "Python 3 (ipykernel)",
   "language": "python",
   "name": "python3"
  },
  "language_info": {
   "codemirror_mode": {
    "name": "ipython",
    "version": 3
   },
   "file_extension": ".py",
   "mimetype": "text/x-python",
   "name": "python",
   "nbconvert_exporter": "python",
   "pygments_lexer": "ipython3",
   "version": "3.12.7"
  }
 },
 "nbformat": 4,
 "nbformat_minor": 5
}
