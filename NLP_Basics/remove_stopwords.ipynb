{
 "cells": [
  {
   "cell_type": "code",
   "execution_count": 5,
   "id": "ae0e023a-cb9d-48a4-8c01-ebb49e6846df",
   "metadata": {},
   "outputs": [
    {
     "name": "stdout",
     "output_type": "stream",
     "text": [
      "The sentence is: ['I', 'am', 'learning', 'Python', '.', 'It', 'is', 'one', 'of', 'the', 'most', 'popular', 'programming', 'languages', '.']\n",
      "Removed stopwords from the sentence: ['learning', 'Python', '.', 'one', 'popular', 'programming', 'languages', '.']\n"
     ]
    }
   ],
   "source": [
    "from nltk.tokenize import word_tokenize\n",
    "from nltk.corpus import stopwords\n",
    "sentence = \"I am learning Python. It is one of the most popular programming languages.\"\n",
    "tokens = word_tokenize(sentence)\n",
    "stop_words = set(stopwords.words('english'))\n",
    "def remove_stop_words(sentence_words, stop_words):\n",
    "    return [word for word in sentence_words if word.lower() not in stop_words]\n",
    "removed_stopwords = remove_stop_words(tokens, stop_words)\n",
    "\n",
    "print(\"The sentence is:\", tokens)\n",
    "print(\"Removed stopwords from the sentence:\", removed_stopwords)\n"
   ]
  },
  {
   "cell_type": "code",
   "execution_count": null,
   "id": "d4abba8b-d42b-4ca2-bfd1-04dd984175d6",
   "metadata": {},
   "outputs": [],
   "source": []
  }
 ],
 "metadata": {
  "kernelspec": {
   "display_name": "Python 3 (ipykernel)",
   "language": "python",
   "name": "python3"
  },
  "language_info": {
   "codemirror_mode": {
    "name": "ipython",
    "version": 3
   },
   "file_extension": ".py",
   "mimetype": "text/x-python",
   "name": "python",
   "nbconvert_exporter": "python",
   "pygments_lexer": "ipython3",
   "version": "3.12.7"
  }
 },
 "nbformat": 4,
 "nbformat_minor": 5
}
